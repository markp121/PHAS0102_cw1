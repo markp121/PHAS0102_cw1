{
 "cells": [
  {
   "cell_type": "markdown",
   "metadata": {},
   "source": [
    "# Assignment 1"
   ]
  },
  {
   "cell_type": "code",
   "execution_count": 2,
   "metadata": {},
   "outputs": [],
   "source": [
    "import time\n",
    "\n",
    "class Timer:    \n",
    "    def __enter__(self):\n",
    "        self.start = time.time()\n",
    "        return self\n",
    "\n",
    "    def __exit__(self, *args):\n",
    "        self.end = time.time()\n",
    "        self.interval = self.end - self.start"
   ]
  },
  {
   "cell_type": "code",
   "execution_count": 73,
   "metadata": {
    "scrolled": true
   },
   "outputs": [
    {
     "name": "stdout",
     "output_type": "stream",
     "text": [
      "[[ 1.  1.  1.  1.  1.  1.  1.  1.  1.  1.]\n",
      " [ 1.  1.  1.  1.  1.  1.  1.  1.  1.  1.]\n",
      " [ 1.  1.  1.  1.  1.  1.  1.  1.  1.  1.]\n",
      " [ 1.  1.  1. 10. 10. 10. 10.  1.  1.  1.]\n",
      " [ 1.  1.  1. 10. 10. 10. 10.  1.  1.  1.]\n",
      " [ 1.  1.  1. 10. 10. 10. 10.  1.  1.  1.]\n",
      " [ 1.  1.  1. 10. 10. 10. 10.  1.  1.  1.]\n",
      " [ 1.  1.  1.  1.  1.  1.  1.  1.  1.  1.]\n",
      " [ 1.  1.  1.  1.  1.  1.  1.  1.  1.  1.]\n",
      " [ 1.  1.  1.  1.  1.  1.  1.  1.  1.  1.]]\n",
      "[[1.   1.   1.   1.   1.   1.   1.   1.   1.   1.  ]\n",
      " [1.   1.   1.   1.   1.   1.   1.   1.   1.   1.  ]\n",
      " [1.   1.   1.   3.25 3.81 3.95 3.99 1.75 1.19 1.  ]\n",
      " [1.   1.   3.25 6.62 7.61 7.89 5.72 2.37 1.39 1.  ]\n",
      " [1.   1.   3.81 7.61 8.8  9.17 6.47 2.71 1.52 1.  ]\n",
      " [1.   1.   3.95 7.89 9.17 9.59 6.77 2.87 1.6  1.  ]\n",
      " [1.   1.   3.99 5.72 6.47 6.77 3.88 2.19 1.45 1.  ]\n",
      " [1.   1.   1.75 2.37 2.71 2.87 2.19 1.59 1.26 1.  ]\n",
      " [1.   1.   1.19 1.39 1.52 1.6  1.45 1.26 1.13 1.  ]\n",
      " [1.   1.   1.   1.   1.   1.   1.   1.   1.   1.  ]]\n",
      "[[1.   1.   1.   1.   1.   1.   1.   1.   1.   1.  ]\n",
      " [1.   1.   1.   1.56 1.84 1.95 1.98 1.43 1.15 1.  ]\n",
      " [1.   1.   2.12 3.53 4.23 4.52 3.49 2.12 1.42 1.  ]\n",
      " [1.   1.56 3.53 5.57 6.62 6.51 4.71 2.73 1.67 1.  ]\n",
      " [1.   1.84 4.23 6.62 7.9  7.62 5.45 3.14 1.85 1.  ]\n",
      " [1.   1.95 4.52 6.51 7.62 7.19 4.85 2.94 1.81 1.  ]\n",
      " [1.   1.98 3.49 4.71 5.45 4.85 3.52 2.38 1.61 1.  ]\n",
      " [1.   1.43 2.12 2.73 3.14 2.94 2.38 1.82 1.39 1.  ]\n",
      " [1.   1.15 1.42 1.67 1.85 1.81 1.61 1.39 1.19 1.  ]\n",
      " [1.   1.   1.   1.   1.   1.   1.   1.   1.   1.  ]]\n",
      "[[1.   1.   1.   1.   1.   1.   1.   1.   1.   1.  ]\n",
      " [1.   1.   1.42 1.95 2.28 2.45 2.09 1.59 1.25 1.  ]\n",
      " [1.   1.42 2.48 3.56 4.25 4.17 3.27 2.25 1.54 1.  ]\n",
      " [1.   1.95 3.56 5.09 5.94 5.61 4.27 2.83 1.81 1.  ]\n",
      " [1.   2.28 4.25 5.94 6.78 6.26 4.63 3.06 1.92 1.  ]\n",
      " [1.   2.45 4.17 5.61 6.26 5.55 4.16 2.85 1.85 1.  ]\n",
      " [1.   2.09 3.27 4.27 4.63 4.16 3.27 2.39 1.66 1.  ]\n",
      " [1.   1.59 2.25 2.83 3.06 2.85 2.39 1.89 1.43 1.  ]\n",
      " [1.   1.25 1.54 1.81 1.92 1.85 1.66 1.43 1.22 1.  ]\n",
      " [1.   1.   1.   1.   1.   1.   1.   1.   1.   1.  ]]\n",
      "[[1.   1.   1.   1.   1.   1.   1.   1.   1.   1.  ]\n",
      " [1.   1.21 1.66 2.12 2.45 2.43 2.07 1.64 1.3  1.  ]\n",
      " [1.   1.66 2.61 3.52 4.02 3.83 3.11 2.28 1.6  1.  ]\n",
      " [1.   2.12 3.52 4.73 5.28 4.91 3.87 2.76 1.82 1.  ]\n",
      " [1.   2.45 4.02 5.28 5.77 5.22 4.08 2.9  1.89 1.  ]\n",
      " [1.   2.43 3.83 4.91 5.22 4.69 3.72 2.71 1.82 1.  ]\n",
      " [1.   2.07 3.11 3.87 4.08 3.72 3.05 2.33 1.64 1.  ]\n",
      " [1.   1.64 2.28 2.76 2.9  2.71 2.33 1.88 1.44 1.  ]\n",
      " [1.   1.3  1.6  1.82 1.89 1.82 1.64 1.44 1.22 1.  ]\n",
      " [1.   1.   1.   1.   1.   1.   1.   1.   1.   1.  ]]\n",
      "[[1.   1.   1.   1.   1.   1.   1.   1.   1.   1.  ]\n",
      " [1.   1.33 1.77 2.18 2.41 2.33 2.02 1.65 1.31 1.  ]\n",
      " [1.   1.77 2.64 3.39 3.73 3.52 2.92 2.23 1.59 1.  ]\n",
      " [1.   2.18 3.39 4.34 4.69 4.32 3.52 2.62 1.77 1.  ]\n",
      " [1.   2.41 3.73 4.69 4.95 4.51 3.66 2.72 1.83 1.  ]\n",
      " [1.   2.33 3.52 4.32 4.51 4.12 3.39 2.56 1.76 1.  ]\n",
      " [1.   2.02 2.92 3.52 3.66 3.39 2.86 2.24 1.61 1.  ]\n",
      " [1.   1.65 2.23 2.62 2.72 2.56 2.24 1.84 1.42 1.  ]\n",
      " [1.   1.31 1.59 1.77 1.83 1.76 1.61 1.42 1.21 1.  ]\n",
      " [1.   1.   1.   1.   1.   1.   1.   1.   1.   1.  ]]\n",
      "[[1.   1.   1.   1.   1.   1.   1.   1.   1.   1.  ]\n",
      " [1.   1.38 1.8  2.15 2.3  2.21 1.95 1.62 1.3  1.  ]\n",
      " [1.   1.8  2.6  3.2  3.43 3.22 2.73 2.14 1.55 1.  ]\n",
      " [1.   2.15 3.2  3.95 4.16 3.85 3.22 2.46 1.71 1.  ]\n",
      " [1.   2.3  3.43 4.16 4.34 3.99 3.33 2.55 1.75 1.  ]\n",
      " [1.   2.21 3.22 3.85 3.99 3.69 3.11 2.41 1.69 1.  ]\n",
      " [1.   1.95 2.73 3.22 3.33 3.11 2.67 2.13 1.56 1.  ]\n",
      " [1.   1.62 2.14 2.46 2.55 2.41 2.13 1.77 1.39 1.  ]\n",
      " [1.   1.3  1.55 1.71 1.75 1.69 1.56 1.39 1.19 1.  ]\n",
      " [1.   1.   1.   1.   1.   1.   1.   1.   1.   1.  ]]\n",
      "[[1.   1.   1.   1.   1.   1.   1.   1.   1.   1.  ]\n",
      " [1.   1.4  1.79 2.07 2.18 2.09 1.86 1.58 1.28 1.  ]\n",
      " [1.   1.79 2.5  2.99 3.14 2.95 2.54 2.03 1.51 1.  ]\n",
      " [1.   2.07 2.99 3.57 3.72 3.47 2.95 2.31 1.64 1.  ]\n",
      " [1.   2.18 3.14 3.72 3.86 3.59 3.05 2.38 1.68 1.  ]\n",
      " [1.   2.09 2.95 3.47 3.59 3.35 2.87 2.27 1.63 1.  ]\n",
      " [1.   1.86 2.54 2.95 3.05 2.87 2.5  2.03 1.51 1.  ]\n",
      " [1.   1.58 2.03 2.31 2.38 2.27 2.03 1.71 1.35 1.  ]\n",
      " [1.   1.28 1.51 1.64 1.68 1.63 1.51 1.35 1.18 1.  ]\n",
      " [1.   1.   1.   1.   1.   1.   1.   1.   1.   1.  ]]\n",
      "[[1.   1.   1.   1.   1.   1.   1.   1.   1.   1.  ]\n",
      " [1.   1.39 1.74 1.98 2.05 1.97 1.77 1.52 1.26 1.  ]\n",
      " [1.   1.74 2.36 2.76 2.87 2.71 2.37 1.93 1.46 1.  ]\n",
      " [1.   1.98 2.76 3.24 3.36 3.15 2.72 2.17 1.58 1.  ]\n",
      " [1.   2.05 2.87 3.36 3.47 3.26 2.81 2.23 1.61 1.  ]\n",
      " [1.   1.97 2.71 3.15 3.26 3.06 2.66 2.14 1.56 1.  ]\n",
      " [1.   1.77 2.37 2.72 2.81 2.66 2.34 1.92 1.46 1.  ]\n",
      " [1.   1.52 1.93 2.17 2.23 2.14 1.92 1.64 1.32 1.  ]\n",
      " [1.   1.26 1.46 1.58 1.61 1.56 1.46 1.32 1.16 1.  ]\n",
      " [1.   1.   1.   1.   1.   1.   1.   1.   1.   1.  ]]\n",
      "[[1.   1.   1.   1.   1.   1.   1.   1.   1.   1.  ]\n",
      " [1.   1.37 1.68 1.87 1.93 1.85 1.69 1.47 1.23 1.  ]\n",
      " [1.   1.68 2.22 2.55 2.64 2.5  2.21 1.83 1.41 1.  ]\n",
      " [1.   1.87 2.55 2.96 3.06 2.88 2.52 2.04 1.51 1.  ]\n",
      " [1.   1.93 2.64 3.06 3.16 2.98 2.6  2.09 1.54 1.  ]\n",
      " [1.   1.85 2.5  2.88 2.98 2.82 2.47 2.01 1.5  1.  ]\n",
      " [1.   1.69 2.21 2.52 2.6  2.47 2.2  1.83 1.41 1.  ]\n",
      " [1.   1.47 1.83 2.04 2.09 2.01 1.83 1.57 1.29 1.  ]\n",
      " [1.   1.23 1.41 1.51 1.54 1.5  1.41 1.29 1.14 1.  ]\n",
      " [1.   1.   1.   1.   1.   1.   1.   1.   1.   1.  ]]\n",
      "[[1.   1.   1.   1.   1.   1.   1.   1.   1.   1.  ]\n",
      " [1.   1.34 1.61 1.77 1.82 1.75 1.61 1.42 1.21 1.  ]\n",
      " [1.   1.61 2.08 2.36 2.43 2.32 2.07 1.73 1.36 1.  ]\n",
      " [1.   1.77 2.36 2.71 2.8  2.65 2.34 1.92 1.46 1.  ]\n",
      " [1.   1.82 2.43 2.8  2.89 2.74 2.41 1.97 1.48 1.  ]\n",
      " [1.   1.75 2.32 2.65 2.74 2.61 2.31 1.9  1.45 1.  ]\n",
      " [1.   1.61 2.07 2.34 2.41 2.31 2.07 1.74 1.37 1.  ]\n",
      " [1.   1.42 1.73 1.92 1.97 1.9  1.74 1.51 1.26 1.  ]\n",
      " [1.   1.21 1.36 1.46 1.48 1.45 1.37 1.26 1.13 1.  ]\n",
      " [1.   1.   1.   1.   1.   1.   1.   1.   1.   1.  ]]\n"
     ]
    }
   ],
   "source": [
    "import numpy as np\n",
    "\n",
    "def diffusion_iteration(un):\n",
    "    for i in range(1, N-1):\n",
    "        for j in range(1, N-1):\n",
    "            un[i, j] = (un[i+1,j] + un[i-1, j] + un[i, j+1] + un [i, j-1])/4\n",
    "    return np.around(un, 2)\n",
    "\n",
    "N = 10\n",
    "u0 = np.ones((N, N), dtype='float64')\n",
    "u0[int(N/2)-2:int(N/2)+2, int(N/2)-2:int(N/2)+2] = 10\n",
    "print(u0)\n",
    "\n",
    "for iteration in range(0, 10):\n",
    "    print(diffusion_iteration(u0))"
   ]
  },
  {
   "cell_type": "code",
   "execution_count": 76,
   "metadata": {
    "scrolled": true
   },
   "outputs": [
    {
     "name": "stdout",
     "output_type": "stream",
     "text": [
      "array size: 100 | time for process: 0.012887716293334961\n",
      "array size: 200 | time for process: 0.05136251449584961\n",
      "array size: 300 | time for process: 0.11091899871826172\n",
      "array size: 400 | time for process: 0.2003006935119629\n",
      "array size: 500 | time for process: 0.3132505416870117\n",
      "array size: 600 | time for process: 0.4526820182800293\n",
      "array size: 700 | time for process: 0.616532564163208\n",
      "array size: 800 | time for process: 0.8080761432647705\n",
      "array size: 900 | time for process: 1.0306296348571777\n",
      "array size: 1000 | time for process: 1.259427785873413\n"
     ]
    }
   ],
   "source": [
    "import numpy as np\n",
    "\n",
    "def diffusion_iteration(N):\n",
    "    \n",
    "    un = np.zeros((N, N), dtype='float64')\n",
    "    un[1, 1:N-1] = 1\n",
    "    \n",
    "    for i in range(1, N-1):\n",
    "        for j in range(1, N-1):\n",
    "            un[i, j] = (un[i+1,j] + un[i-1, j] + un[i, j+1] + un [i, j-1])/4\n",
    "    return un        \n",
    "\n",
    "\n",
    "for array_size in range(100, 1100, 100):\n",
    "    with Timer() as t:\n",
    "        diffusion_iteration(array_size)\n",
    "    print(\"array size: {}\".format(array_size),\"| time for process: {0}\".format(t.interval))"
   ]
  },
  {
   "cell_type": "code",
   "execution_count": 84,
   "metadata": {
    "scrolled": true
   },
   "outputs": [
    {
     "data": {
      "image/png": "[encoded data removed]",
      "text/plain": [
       "<Figure size 720x216 with 2 Axes>"
      ]
     },
     "metadata": {
      "needs_background": "light"
     },
     "output_type": "display_data"
    }
   ],
   "source": [
    "%matplotlib inline\n",
    "\n",
    "import numpy as np\n",
    "import matplotlib.pyplot as plt\n",
    "\n",
    "def diffusion_iteration(N):\n",
    "    un = np.ones((N, N), dtype='float64')\n",
    "    un[int(N/2)-2:int(N/2)+2, int(N/2)-2:int(N/2)+2] = 10\n",
    "    \n",
    "    for i in range(1, N-1):\n",
    "        for j in range(1, N-1):\n",
    "            un[i, j] = (un[i+1,j] + un[i-1, j] + un[i, j+1] + un [i, j-1])/4\n",
    "    return un        \n",
    "\n",
    "x = []\n",
    "y = []\n",
    "\n",
    "\n",
    "for array_size in range(100, 1010, 10):\n",
    "    with Timer() as t:\n",
    "        diffusion_iteration(array_size)\n",
    "    x.append(array_size)\n",
    "    y.append(t.interval)\n",
    "\n",
    "fig = plt.figure(figsize=(10.0, 3.0))\n",
    "\n",
    "axes1 = fig.add_subplot(1, 2, 1)\n",
    "axes2 = fig.add_subplot(1, 2, 2)\n",
    "\n",
    "axes1.set_ylabel(\"compute time/s\")\n",
    "axes1.set_xlabel(\"array size\")\n",
    "axes1.plot(x, y)\n",
    "\n",
    "axes2.set_ylabel(\"array size^2\")\n",
    "axes2.set_xlabel(\"array size\")\n",
    "axes2.plot(x,np.square(x))\n",
    "\n",
    "fig.tight_layout()\n",
    "\n",
    "plt.show()"
   ]
  },
  {
   "cell_type": "code",
   "execution_count": null,
   "metadata": {},
   "outputs": [],
   "source": [
    "import numpy as np\n",
    "\n",
    "def diffusion_iteration(un):\n",
    "    for i in range(1, N-1):\n",
    "        for j in range(1, N-1):\n",
    "            un[i, j] = (un[i+1,j] + un[i-1, j] + un[i, j+1] + un [i, j-1])/4\n",
    "    return np.around(un, 2)\n",
    "\n",
    "N = 10\n",
    "u0 = np.ones((N, N), dtype='float64')\n",
    "u0[int(N/2)-2:int(N/2)+2, int(N/2)-2:int(N/2)+2] = 10\n",
    "print(u0)\n",
    "\n",
    "for iteration in range(1, 100):\n",
    "    print(diffusion_iteration(u0))"
   ]
  }
 ],
 "metadata": {
  "kernelspec": {
   "display_name": "Python 3",
   "language": "python",
   "name": "python3"
  },
  "language_info": {
   "codemirror_mode": {
    "name": "ipython",
    "version": 3
   },
   "file_extension": ".py",
   "mimetype": "text/x-python",
   "name": "python",
   "nbconvert_exporter": "python",
   "pygments_lexer": "ipython3",
   "version": "3.8.5"
  }
 },
 "nbformat": 4,
 "nbformat_minor": 4
}
