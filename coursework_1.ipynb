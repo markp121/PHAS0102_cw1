{
 "cells": [
  {
   "cell_type": "markdown",
   "metadata": {},
   "source": [
    "# Assignment 1"
   ]
  },
  {
   "cell_type": "code",
   "execution_count": 4,
   "metadata": {},
   "outputs": [],
   "source": [
    "import time\n",
    "\n",
    "class Timer:    \n",
    "    def __enter__(self):\n",
    "        self.start = time.time()\n",
    "        return self\n",
    "\n",
    "    def __exit__(self, *args):\n",
    "        self.end = time.time()\n",
    "        self.interval = self.end - self.start"
   ]
  },
  {
   "cell_type": "code",
   "execution_count": 6,
   "metadata": {
    "scrolled": true
   },
   "outputs": [
    {
     "name": "stdout",
     "output_type": "stream",
     "text": [
      "[[ 1.  1.  1.  1.  1.  1.  1.  1.  1.  1.]\n",
      " [ 1.  1.  1.  1.  1.  1.  1.  1.  1.  1.]\n",
      " [ 1.  1.  1.  1.  1.  1.  1.  1.  1.  1.]\n",
      " [ 1.  1.  1. 10. 10. 10. 10.  1.  1.  1.]\n",
      " [ 1.  1.  1. 10. 10. 10. 10.  1.  1.  1.]\n",
      " [ 1.  1.  1. 10. 10. 10. 10.  1.  1.  1.]\n",
      " [ 1.  1.  1. 10. 10. 10. 10.  1.  1.  1.]\n",
      " [ 1.  1.  1.  1.  1.  1.  1.  1.  1.  1.]\n",
      " [ 1.  1.  1.  1.  1.  1.  1.  1.  1.  1.]\n",
      " [ 1.  1.  1.  1.  1.  1.  1.  1.  1.  1.]]\n",
      "[[1.   1.   1.   1.   1.   1.   1.   1.   1.   1.  ]\n",
      " [1.   1.   1.   1.   1.   1.   1.   1.   1.   1.  ]\n",
      " [1.   1.   1.   3.25 3.81 3.95 3.99 1.75 1.19 1.  ]\n",
      " [1.   1.   3.25 6.62 7.61 7.89 5.72 2.37 1.39 1.  ]\n",
      " [1.   1.   3.81 7.61 8.8  9.17 6.47 2.71 1.52 1.  ]\n",
      " [1.   1.   3.95 7.89 9.17 9.59 6.77 2.87 1.6  1.  ]\n",
      " [1.   1.   3.99 5.72 6.47 6.77 3.88 2.19 1.45 1.  ]\n",
      " [1.   1.   1.75 2.37 2.71 2.87 2.19 1.59 1.26 1.  ]\n",
      " [1.   1.   1.19 1.39 1.52 1.6  1.45 1.26 1.13 1.  ]\n",
      " [1.   1.   1.   1.   1.   1.   1.   1.   1.   1.  ]]\n",
      "[[1.   1.   1.   1.   1.   1.   1.   1.   1.   1.  ]\n",
      " [1.   1.   1.   1.56 1.84 1.95 1.98 1.43 1.15 1.  ]\n",
      " [1.   1.   2.12 3.53 4.23 4.52 3.49 2.12 1.42 1.  ]\n",
      " [1.   1.56 3.53 5.57 6.62 6.51 4.71 2.73 1.67 1.  ]\n",
      " [1.   1.84 4.23 6.62 7.9  7.62 5.45 3.14 1.85 1.  ]\n",
      " [1.   1.95 4.52 6.51 7.62 7.19 4.85 2.94 1.81 1.  ]\n",
      " [1.   1.98 3.49 4.71 5.45 4.85 3.52 2.38 1.61 1.  ]\n",
      " [1.   1.43 2.12 2.73 3.14 2.94 2.38 1.82 1.39 1.  ]\n",
      " [1.   1.15 1.42 1.67 1.85 1.81 1.61 1.39 1.19 1.  ]\n",
      " [1.   1.   1.   1.   1.   1.   1.   1.   1.   1.  ]]\n"
     ]
    }
   ],
   "source": [
    "import numpy as np\n",
    "\n",
    "def diffusion_iteration(un):\n",
    "    for i in range(1, N-1):\n",
    "        for j in range(1, N-1):\n",
    "            un[i, j] = (un[i+1,j] + un[i-1, j] + un[i, j+1] + un [i, j-1])/4\n",
    "    return np.around(un, 2)\n",
    "\n",
    "N = 10\n",
    "u0 = np.ones((N, N), dtype='float64')\n",
    "u0[int(N/2)-2:int(N/2)+2, int(N/2)-2:int(N/2)+2] = 10\n",
    "print(u0)\n",
    "\n",
    "for iteration in range(0,2):\n",
    "    print(diffusion_iteration(u0))"
   ]
  },
  {
   "cell_type": "code",
   "execution_count": 10,
   "metadata": {
    "scrolled": true
   },
   "outputs": [
    {
     "name": "stdout",
     "output_type": "stream",
     "text": [
      "array size: 100 | time for process: 0.0269320011138916\n",
      "array size: 200 | time for process: 0.08656811714172363\n",
      "array size: 300 | time for process: 0.21851181983947754\n",
      "array size: 400 | time for process: 0.36229562759399414\n",
      "array size: 500 | time for process: 0.5532088279724121\n",
      "array size: 600 | time for process: 0.7924201488494873\n",
      "array size: 700 | time for process: 1.1553242206573486\n",
      "array size: 800 | time for process: 1.480456829071045\n",
      "array size: 900 | time for process: 1.9019579887390137\n",
      "array size: 1000 | time for process: 2.2456865310668945\n"
     ]
    }
   ],
   "source": [
    "import numpy as np\n",
    "\n",
    "def diffusion_iteration(N):\n",
    "    \n",
    "    un = np.zeros((N, N), dtype='float64')\n",
    "    un[1, 1:N-1] = 1\n",
    "    \n",
    "    for i in range(1, N-1):\n",
    "        for j in range(1, N-1):\n",
    "            un[i, j] = (un[i+1,j] + un[i-1, j] + un[i, j+1] + un [i, j-1])/4\n",
    "    return un        \n",
    "\n",
    "\n",
    "for array_size in range(100, 1100, 100):\n",
    "    with Timer() as t:\n",
    "        diffusion_iteration(array_size)\n",
    "    print(\"array size: {}\".format(array_size),\"| time for process: {0}\".format(t.interval))"
   ]
  },
  {
   "cell_type": "code",
   "execution_count": 11,
   "metadata": {},
   "outputs": [
    {
     "name": "stdout",
     "output_type": "stream",
     "text": [
      "array size: 100 | time for process: 0.023919105529785156\n",
      "array size: 200 | time for process: 0.08933210372924805\n",
      "array size: 300 | time for process: 0.21627092361450195\n",
      "array size: 400 | time for process: 0.418898344039917\n",
      "array size: 500 | time for process: 0.6597528457641602\n",
      "array size: 600 | time for process: 0.855238676071167\n",
      "array size: 700 | time for process: 1.1430346965789795\n",
      "array size: 800 | time for process: 1.4632527828216553\n",
      "array size: 900 | time for process: 1.804856777191162\n",
      "array size: 1000 | time for process: 2.1560637950897217\n"
     ]
    }
   ],
   "source": [
    "import numpy as np\n",
    "\n",
    "def diffusion_iteration(N):\n",
    "    \n",
    "    un = np.zeros((N, N), dtype='float64')\n",
    "    un[1, 1:N-1] = 1\n",
    "    un_1 = np.empty((N,N), dtype = 'float64')\n",
    "    for i in range(1, N-1):\n",
    "        for j in range(1, N-1):\n",
    "            un_1[i, j] = (un[i+1,j] + un[i-1, j] + un[i, j+1] + un [i, j-1])/4\n",
    "    np.copyto(un,un_1)\n",
    "    return un        \n",
    "\n",
    "\n",
    "for array_size in range(100, 1100, 100):\n",
    "    with Timer() as t:\n",
    "        diffusion_iteration(array_size)\n",
    "    print(\"array size: {}\".format(array_size),\"| time for process: {0}\".format(t.interval))"
   ]
  },
  {
   "cell_type": "code",
   "execution_count": 8,
   "metadata": {
    "scrolled": true
   },
   "outputs": [
    {
     "data": {
      "image/png": "[encoded data removed]",
      "text/plain": [
       "<Figure size 720x216 with 2 Axes>"
      ]
     },
     "metadata": {
      "needs_background": "light"
     },
     "output_type": "display_data"
    }
   ],
   "source": [
    "%matplotlib inline\n",
    "\n",
    "import numpy as np\n",
    "import matplotlib.pyplot as plt\n",
    "\n",
    "def diffusion_iteration(N):\n",
    "    un = np.ones((N, N), dtype='float64')\n",
    "    un[int(N/2)-2:int(N/2)+2, int(N/2)-2:int(N/2)+2] = 10\n",
    "    \n",
    "    for i in range(1, N-1):\n",
    "        for j in range(1, N-1):\n",
    "            un[i, j] = (un[i+1,j] + un[i-1, j] + un[i, j+1] + un [i, j-1])/4\n",
    "    return un        \n",
    "\n",
    "x = []\n",
    "y = []\n",
    "\n",
    "\n",
    "for array_size in range(100, 1100, 100):\n",
    "    with Timer() as t:\n",
    "        diffusion_iteration(array_size)\n",
    "    x.append(array_size)\n",
    "    y.append(t.interval)\n",
    "\n",
    "fig = plt.figure(figsize=(10.0, 3.0))\n",
    "\n",
    "axes1 = fig.add_subplot(1, 2, 1)\n",
    "axes2 = fig.add_subplot(1, 2, 2)\n",
    "\n",
    "axes1.set_ylabel(\"compute time/s\")\n",
    "axes1.set_xlabel(\"array size\")\n",
    "axes1.plot(x, y)\n",
    "\n",
    "axes2.set_ylabel(\"array size^2\")\n",
    "axes2.set_xlabel(\"array size\")\n",
    "axes2.plot(x,np.square(x))\n",
    "\n",
    "fig.tight_layout()\n",
    "\n",
    "plt.show()"
   ]
  },
  {
   "cell_type": "code",
   "execution_count": 65,
   "metadata": {},
   "outputs": [
    {
     "data": {
      "image/png": "[encoded data removed]",
      "text/plain": [
       "<Figure size 720x216 with 2 Axes>"
      ]
     },
     "metadata": {
      "needs_background": "light"
     },
     "output_type": "display_data"
    }
   ],
   "source": [
    "%matplotlib inline\n",
    "\n",
    "import numpy as np\n",
    "import matplotlib.pyplot as plt\n",
    "\n",
    "def diffusion_iteration(un, N):\n",
    "    \n",
    "    un1 = np.copy(un)\n",
    "    for i in range(1, N-1):\n",
    "        for j in range(1, N-1):\n",
    "            un1[i, j] = (un[i+1,j] + un[i-1, j] + un[i, j+1] + un [i, j-1])/4\n",
    "    np.copyto(un, un1)          \n",
    "    return un\n",
    "\n",
    "x = []\n",
    "y = []\n",
    "\n",
    "\n",
    "for array_size in range(50,1100,50):\n",
    "    \n",
    "    u0 = np.zeros((array_size, array_size), dtype='float64')\n",
    "    u0[int(array_size/2)-2:int(array_size/2)+2, int(array_size/2)-2:int(array_size/2)+2] = 1\n",
    "    \n",
    "    with Timer() as t:\n",
    "        diffusion_iteration(u0, array_size)\n",
    "    x.append(array_size)\n",
    "    y.append(t.interval)\n",
    "\n",
    "fig = plt.figure(figsize=(10.0, 3.0))\n",
    "\n",
    "axes1 = fig.add_subplot(1, 2, 1)\n",
    "axes2 = fig.add_subplot(1, 2, 2)\n",
    "\n",
    "axes1.set_ylabel(\"compute time/s\")\n",
    "axes1.set_xlabel(\"array size\")\n",
    "axes1.plot(x, y)\n",
    "\n",
    "axes2.set_ylabel(\"array size^2\")\n",
    "axes2.set_xlabel(\"array size\")\n",
    "axes2.plot(x,np.square(x))\n",
    "\n",
    "fig.tight_layout()\n",
    "\n",
    "plt.show()"
   ]
  },
  {
   "cell_type": "code",
   "execution_count": 64,
   "metadata": {},
   "outputs": [
    {
     "name": "stdout",
     "output_type": "stream",
     "text": [
      "[[ 0.   0.   0.   0.   0.   0.   0.   0.   0.   0. ]\n",
      " [ 0.   0.   0.   0.   0.   0.   0.   0.   0.   0. ]\n",
      " [ 0.   0.   0.   2.5  2.5  2.5  2.5  0.   0.   0. ]\n",
      " [ 0.   0.   2.5  5.   7.5  7.5  5.   2.5  0.   0. ]\n",
      " [ 0.   0.   2.5  7.5 10.  10.   7.5  2.5  0.   0. ]\n",
      " [ 0.   0.   2.5  7.5 10.  10.   7.5  2.5  0.   0. ]\n",
      " [ 0.   0.   2.5  5.   7.5  7.5  5.   2.5  0.   0. ]\n",
      " [ 0.   0.   0.   2.5  2.5  2.5  2.5  0.   0.   0. ]\n",
      " [ 0.   0.   0.   0.   0.   0.   0.   0.   0.   0. ]\n",
      " [ 0.   0.   0.   0.   0.   0.   0.   0.   0.   0. ]]\n",
      "[[0.    0.    0.    0.    0.    0.    0.    0.    0.    0.   ]\n",
      " [0.    0.    0.    0.625 0.625 0.625 0.625 0.    0.    0.   ]\n",
      " [0.    0.    1.25  1.875 3.125 3.125 1.875 1.25  0.    0.   ]\n",
      " [0.    0.625 1.875 5.    6.25  6.25  5.    1.875 0.625 0.   ]\n",
      " [0.    0.625 3.125 6.25  8.75  8.75  6.25  3.125 0.625 0.   ]\n",
      " [0.    0.625 3.125 6.25  8.75  8.75  6.25  3.125 0.625 0.   ]\n",
      " [0.    0.625 1.875 5.    6.25  6.25  5.    1.875 0.625 0.   ]\n",
      " [0.    0.    1.25  1.875 3.125 3.125 1.875 1.25  0.    0.   ]\n",
      " [0.    0.    0.    0.625 0.625 0.625 0.625 0.    0.    0.   ]\n",
      " [0.    0.    0.    0.    0.    0.    0.    0.    0.    0.   ]]\n"
     ]
    }
   ],
   "source": [
    "import numpy as np\n",
    "\n",
    "def diffusion_iteration(un, un1):\n",
    "    for i in range(1, N-1):\n",
    "        for j in range(1, N-1):\n",
    "            un1[i, j] = (un[i+1,j] + un[i-1, j] + un[i, j+1] + un [i, j-1])/4\n",
    "    un[:] = un1\n",
    "    return un\n",
    "    \n",
    "\n",
    "N = 10\n",
    "u0 = np.zeros([N, N], dtype = 'float64')\n",
    "u0[int(N/2)-2:int(N/2)+2, int(N/2)-2:int(N/2)+2] = 10\n",
    "u1 = np.empty([N,N], dtype = 'float64')\n",
    "\n",
    "for interations in range(0,2):\n",
    "    print(diffusion_iteration(u0, u1))"
   ]
  },
  {
   "cell_type": "code",
   "execution_count": 63,
   "metadata": {
    "scrolled": true
   },
   "outputs": [
    {
     "name": "stdout",
     "output_type": "stream",
     "text": [
      "array size: 5000 | time for process: 0.43708109855651855\n"
     ]
    }
   ],
   "source": [
    "import numba \n",
    "import numpy as np\n",
    "\n",
    "@numba.njit\n",
    "def diffusion_iteration(un, un1, N):\n",
    "    for i in range(1, N-1):\n",
    "        for j in range(1, N-1):\n",
    "            un1[i, j] = (un[i+1,j] + un[i-1, j] + un[i, j+1] + un [i, j-1])/4\n",
    "    un[:] = un1\n",
    "    return un        \n",
    "\n",
    "array_size = 5000\n",
    "u0 = np.zeros([array_size, array_size], dtype='float64')\n",
    "u1 = np.empty([array_size, array_size], dtype='float64')\n",
    "u0[1, 1:array_size-1] = 1\n",
    "\n",
    "with Timer() as t:\n",
    "        diffusion_iteration(u0, u1, array_size)\n",
    "print(\"array size: {}\".format(array_size),\"| time for process: {0}\".format(t.interval))"
   ]
  },
  {
   "cell_type": "code",
   "execution_count": null,
   "metadata": {},
   "outputs": [],
   "source": []
  },
  {
   "cell_type": "code",
   "execution_count": null,
   "metadata": {},
   "outputs": [],
   "source": []
  }
 ],
 "metadata": {
  "kernelspec": {
   "display_name": "Python 3",
   "language": "python",
   "name": "python3"
  },
  "language_info": {
   "codemirror_mode": {
    "name": "ipython",
    "version": 3
   },
   "file_extension": ".py",
   "mimetype": "text/x-python",
   "name": "python",
   "nbconvert_exporter": "python",
   "pygments_lexer": "ipython3",
   "version": "3.8.5"
  }
 },
 "nbformat": 4,
 "nbformat_minor": 4
}
