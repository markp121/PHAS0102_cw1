{
 "cells": [
  {
   "cell_type": "markdown",
   "metadata": {},
   "source": [
    "# Assignment 1"
   ]
  },
  {
   "cell_type": "markdown",
   "metadata": {},
   "source": [
    "### Part 1 - Basic python"
   ]
  },
  {
   "cell_type": "markdown",
   "metadata": {},
   "source": [
    "For the simple python code to execute the diffusion iteration, I have defined an array $u0$ as the initial condition and $u1$ as an empty array to store next iteration. $u0$ is a grid of zeros with size $N$, and in this example values in a 4x4 section in the centre have been set to one. For loops are used to calculate the value of each point after one iteration using the reccurance relation given in the question. Results of this iteration calculation fill $un1$ then $un$ is updated to set initial condition for the next iteration. This matrix $un$ is returned and gives the new matrix after one step of the diffusion iteration. "
   ]
  },
  {
   "cell_type": "code",
   "execution_count": 21,
   "metadata": {},
   "outputs": [
    {
     "name": "stdout",
     "output_type": "stream",
     "text": [
      "[[0. 0. 0. 0. 0. 0. 0. 0. 0. 0.]\n",
      " [0. 0. 0. 0. 0. 0. 0. 0. 0. 0.]\n",
      " [0. 0. 0. 0. 0. 0. 0. 0. 0. 0.]\n",
      " [0. 0. 0. 1. 1. 1. 1. 0. 0. 0.]\n",
      " [0. 0. 0. 1. 1. 1. 1. 0. 0. 0.]\n",
      " [0. 0. 0. 1. 1. 1. 1. 0. 0. 0.]\n",
      " [0. 0. 0. 1. 1. 1. 1. 0. 0. 0.]\n",
      " [0. 0. 0. 0. 0. 0. 0. 0. 0. 0.]\n",
      " [0. 0. 0. 0. 0. 0. 0. 0. 0. 0.]\n",
      " [0. 0. 0. 0. 0. 0. 0. 0. 0. 0.]]\n",
      "[[0.   0.   0.   0.   0.   0.   0.   0.   0.   0.  ]\n",
      " [0.   0.   0.   0.   0.   0.   0.   0.   0.   0.  ]\n",
      " [0.   0.   0.   0.25 0.25 0.25 0.25 0.   0.   0.  ]\n",
      " [0.   0.   0.25 0.5  0.75 0.75 0.5  0.25 0.   0.  ]\n",
      " [0.   0.   0.25 0.75 1.   1.   0.75 0.25 0.   0.  ]\n",
      " [0.   0.   0.25 0.75 1.   1.   0.75 0.25 0.   0.  ]\n",
      " [0.   0.   0.25 0.5  0.75 0.75 0.5  0.25 0.   0.  ]\n",
      " [0.   0.   0.   0.25 0.25 0.25 0.25 0.   0.   0.  ]\n",
      " [0.   0.   0.   0.   0.   0.   0.   0.   0.   0.  ]\n",
      " [0.   0.   0.   0.   0.   0.   0.   0.   0.   0.  ]]\n"
     ]
    }
   ],
   "source": [
    "import numpy as np\n",
    "\n",
    "def diffusion_iteration(un, un1):\n",
    "    for i in range(1, N-1):\n",
    "        for j in range(1, N-1):\n",
    "            un1[i, j] = (un[i+1,j] + un[i-1, j] + un[i, j+1] + un [i, j-1])/4\n",
    "    un[:] = un1\n",
    "    return un\n",
    "\n",
    "N = 10\n",
    "u0 = np.zeros([N, N], dtype = 'float64')\n",
    "u0[int(N/2)-2:int(N/2)+2, int(N/2)-2:int(N/2)+2] = 1\n",
    "u1 = np.empty([N, N], dtype = 'float64')\n",
    "\n",
    "print(u0)\n",
    "\n",
    "print(diffusion_iteration(u0, u1))"
   ]
  },
  {
   "cell_type": "markdown",
   "metadata": {},
   "source": [
    "To find the compute time of one iteration a Timer class is made. This uses the $time()$ function to call the seconds since the epoch (January 1, 1970, 00:00:00 (UTC)) as a floating point number at the start and end of an iteration and then find the difference to give the time for one iteration. "
   ]
  },
  {
   "cell_type": "code",
   "execution_count": 2,
   "metadata": {},
   "outputs": [],
   "source": [
    "import time\n",
    "\n",
    "class Timer:    \n",
    "    def __enter__(self):\n",
    "        self.start = time.time()\n",
    "        return self\n",
    "\n",
    "    def __exit__(self, *args):\n",
    "        self.end = time.time()\n",
    "        self.interval = self.end - self.start"
   ]
  },
  {
   "cell_type": "markdown",
   "metadata": {},
   "source": [
    "To find the relationship between the size of the array N and compute time I have run the first iteration over a range of N and plotted against compute time. This is $O(N^2)$ as is shown by the dependencies on the plots below. This is expectedas we are using a 2d array so compute time have an $N^2$ dependancy. The compute time start to get quite long, around 2 seconds for N = 1000."
   ]
  },
  {
   "cell_type": "code",
   "execution_count": 23,
   "metadata": {},
   "outputs": [
    {
     "data": {
      "image/png": "[encoded data removed]",
      "text/plain": [
       "<Figure size 720x360 with 2 Axes>"
      ]
     },
     "metadata": {
      "needs_background": "light"
     },
     "output_type": "display_data"
    }
   ],
   "source": [
    "%matplotlib inline\n",
    "\n",
    "import numpy as np\n",
    "import matplotlib.pyplot as plt\n",
    "\n",
    "def diffusion_iteration(un, un1, N):\n",
    "    for i in range(1, N-1):\n",
    "        for j in range(1, N-1):\n",
    "            un1[i, j] = (un[i+1,j] + un[i-1, j] + un[i, j+1] + un [i, j-1])/4\n",
    "    un[:] = un1\n",
    "    return un\n",
    "    \n",
    "\n",
    "x = []\n",
    "y = []\n",
    "\n",
    "for array_size in range(100,1100,100):\n",
    "    \n",
    "    u0 = np.zeros([array_size, array_size], dtype = 'float64')\n",
    "    u0[int(array_size/2)-2:int(array_size/2)+2, int(array_size/2)-2:int(array_size/2)+2] = 1\n",
    "    u1 = np.empty([array_size, array_size], dtype = 'float64')\n",
    "    \n",
    "    with Timer() as t:\n",
    "        diffusion_iteration(u0, u1, array_size)\n",
    "    x.append(array_size)\n",
    "    y.append(t.interval)\n",
    "\n",
    "fig = plt.figure(figsize=(10.0, 5.0))\n",
    "\n",
    "axes1 = fig.add_subplot(1, 2, 1)\n",
    "axes2 = fig.add_subplot(1, 2, 2)\n",
    "\n",
    "axes1.set_ylabel(\"compute time/s\")\n",
    "axes1.set_xlabel(\"array size\")\n",
    "axes1.plot(x, y, 'r--')\n",
    "\n",
    "axes2.set_ylabel(\"array size^2\")\n",
    "axes2.set_xlabel(\"array size\")\n",
    "axes2.plot(x,np.square(x), 'b--')\n",
    "\n",
    "fig.tight_layout()\n",
    "\n",
    "plt.show()"
   ]
  },
  {
   "cell_type": "markdown",
   "metadata": {},
   "source": [
    "### part 2 - Numba acceleration and parallelisation"
   ]
  },
  {
   "cell_type": "code",
   "execution_count": null,
   "metadata": {},
   "outputs": [],
   "source": []
  }
 ],
 "metadata": {
  "kernelspec": {
   "display_name": "Python 3",
   "language": "python",
   "name": "python3"
  },
  "language_info": {
   "codemirror_mode": {
    "name": "ipython",
    "version": 3
   },
   "file_extension": ".py",
   "mimetype": "text/x-python",
   "name": "python",
   "nbconvert_exporter": "python",
   "pygments_lexer": "ipython3",
   "version": "3.8.5"
  }
 },
 "nbformat": 4,
 "nbformat_minor": 4
}
